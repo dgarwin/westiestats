{
 "cells": [
  {
   "cell_type": "code",
   "execution_count": 1,
   "metadata": {},
   "outputs": [],
   "source": [
    "import json\n",
    "import datetime\n",
    "import numpy as np\n",
    "import matplotlib.pyplot as plt\n",
    "from sklearn.svm import SVC, SVR\n",
    "from sklearn.model_selection import train_test_split\n",
    "from sklearn.metrics import confusion_matrix\n",
    "from sklearn.cluster import KMeans"
   ]
  },
  {
   "cell_type": "code",
   "execution_count": 34,
   "metadata": {},
   "outputs": [],
   "source": [
    "#GLOBALS\n",
    "divs = ['NEW', 'NOV', 'INT', 'ADV', 'ALS', 'ALS+']\n",
    "divs_set = set(divs)\n",
    "divs_set_starter = set(['NEW', 'NOV'])\n",
    "jr_key = 'JRS'\n",
    "keys_map_basic = {\n",
    "    'NEW':'Newcomer', 'NOV':'Novice', 'INT':'Intermediate', 'ADV':'Advanced', 'ALS':'Allstar', 'ALS+':'Champion'\n",
    "}\n",
    "key_map = {\n",
    "    'NEW-NOV': 'Newcomer/Novice', \n",
    "    'NOV-NOV': 'Novice', \n",
    "    'NOV-INT': 'Novice/Intermediate', \n",
    "    'INT-INT': 'Intermediate', \n",
    "    'INT-ADV': 'Intermediate/Advanced', \n",
    "    'ADV-ADV': 'Advanced',  \n",
    "    'ADV-ALS': 'Advanced/Allstar',  \n",
    "    'ALS-ALS': 'Allstar', \n",
    "    'ALS-ALS+': 'Allstar/Champion', \n",
    "    'ALS+-ALS+': 'Champion'}\n",
    "min_dt = datetime.datetime(1900, 1, 1)\n",
    "max_dt = datetime.datetime(2100, 1, 1)\n",
    "max_year = 2021\n",
    "min_year = 2010\n",
    "first_point_year = 2015"
   ]
  },
  {
   "cell_type": "code",
   "execution_count": 57,
   "metadata": {},
   "outputs": [],
   "source": [
    "def load():\n",
    "    with open('../data/regPoints_full.json') as f:\n",
    "        data = json.load(f)\n",
    "    keys = list(data.keys())\n",
    "    # Transform data\n",
    "    for key in keys:\n",
    "        competitor = data[key]\n",
    "        # Filter People Without Placements\n",
    "        if len(competitor['placements']) == 0 or 'West Coast Swing' not in competitor['placements']:\n",
    "            del data[key]\n",
    "            continue\n",
    "        # Filter People Without Placements in Major Categories\n",
    "        if len([key for key in competitor['placements']['West Coast Swing'].keys() if key in divs_set]) == 0:\n",
    "            del data[key]\n",
    "            continue\n",
    "        # Filter People Without Placements in Starter Categories\n",
    "        if len([key for key in competitor['placements']['West Coast Swing'].keys() if key in divs_set_starter]) == 0:\n",
    "            del data[key]\n",
    "            continue\n",
    "        # Transform\n",
    "        competitor['first_comp'] = get_first_comp(competitor)\n",
    "        competitor['role'] = get_main_role(competitor)\n",
    "        competitor[jr_key] = get_first_div_comp(competitor, jr_key)\n",
    "        for div in divs:\n",
    "            competitor[div] = get_first_div_comp(competitor, div)\n",
    "        for i in range(len(divs)-1):            \n",
    "            set_div_delta(competitor, divs[i], divs[i+1])\n",
    "    keys = list(data.keys())\n",
    "    return data, keys"
   ]
  },
  {
   "cell_type": "code",
   "execution_count": 58,
   "metadata": {},
   "outputs": [],
   "source": [
    "def get_first_comp(competitor):\n",
    "    ret = datetime.datetime(2021, 1, 1)\n",
    "    if len(competitor['placements']) == 0 or 'West Coast Swing' not in competitor['placements']:\n",
    "        return min_dt\n",
    "    for division in competitor['placements']['West Coast Swing']: \n",
    "        for comp in competitor['placements']['West Coast Swing'][division]['competitions']:\n",
    "            comp_date = comp['event']['date']\n",
    "            comp_date = datetime.datetime.strptime(comp_date, '%B %Y')\n",
    "            if ret > comp_date:\n",
    "                ret = comp_date\n",
    "    return ret"
   ]
  },
  {
   "cell_type": "code",
   "execution_count": 59,
   "metadata": {},
   "outputs": [],
   "source": [
    "def get_main_role(competitor): #we might want to extend this later\n",
    "    lc = 0\n",
    "    fc = 0\n",
    "    if len(competitor['placements']) == 0 or 'West Coast Swing' not in competitor['placements']:\n",
    "        return 'fleader'\n",
    "    for division in competitor['placements']['West Coast Swing']: \n",
    "        for comp in competitor['placements']['West Coast Swing'][division]['competitions']:\n",
    "            role = comp['role']\n",
    "            if role == 'leader':\n",
    "                lc+=1\n",
    "            else:\n",
    "                fc+=1\n",
    "    if lc > fc:\n",
    "        return 'leader'\n",
    "    else:\n",
    "        return 'follower'\n",
    "    return ret"
   ]
  },
  {
   "cell_type": "code",
   "execution_count": 5,
   "metadata": {},
   "outputs": [],
   "source": [
    "def get_first_div_comp(competitor, division):\n",
    "    ret = max_dt\n",
    "    if len(competitor['placements']) == 0 or 'West Coast Swing' not in competitor['placements']:\n",
    "        return min_dt\n",
    "    if not division in competitor['placements']['West Coast Swing']:\n",
    "        return max_dt\n",
    "    for comp in competitor['placements']['West Coast Swing'][division]['competitions']:\n",
    "        comp_date = comp['event']['date']\n",
    "        comp_date = datetime.datetime.strptime(comp_date, '%B %Y')\n",
    "        if ret > comp_date:\n",
    "            ret = comp_date\n",
    "    return ret"
   ]
  },
  {
   "cell_type": "code",
   "execution_count": 6,
   "metadata": {},
   "outputs": [],
   "source": [
    "def set_div_delta(competitor, source, target):\n",
    "    s = competitor[source]\n",
    "    t = competitor[target]\n",
    "    diff = (t - s).days / 365\n",
    "    if diff < 0:\n",
    "        diff = 0 # This should only happen with New->Nov\n",
    "    if diff == 0: # They actually didn't level up\n",
    "        diff = 100 # 100 Years From Now...\n",
    "    competitor[f'{source}->{target}'] = diff"
   ]
  },
  {
   "cell_type": "code",
   "execution_count": 7,
   "metadata": {},
   "outputs": [],
   "source": [
    "def print_count_stats(year):\n",
    "    level_count = {}\n",
    "    ret = []\n",
    "    for key in keys:\n",
    "        level = get_composite_level(data[key])\n",
    "        if not level in level_count:\n",
    "            level_count[level] = 0\n",
    "        if data[key]['first_comp'] >= datetime.datetime(year, 1, 1):\n",
    "            level_count[level] += 1\n",
    "            ret.append(key)\n",
    "    t = np.sum(list(level_count.values()))\n",
    "    print(f'For WCS Competitors (Total: {t}) who got their first point after Jan 1 {year}, we have:')\n",
    "    for key in key_map:\n",
    "        if key in level_count:\n",
    "            percent = str(int(round((level_count[key] / t) * 100))).rjust(2, ' ')\n",
    "            total = str(level_count[key]).rjust(4, ' ')\n",
    "            print(f'{percent}% {total} {key_map[key]}')\n",
    "    print('')\n",
    "    return ret, level_count"
   ]
  },
  {
   "cell_type": "code",
   "execution_count": 8,
   "metadata": {},
   "outputs": [],
   "source": [
    "def print_count_stats_one_year(year):\n",
    "    level_count = {}\n",
    "    ret = []\n",
    "    for key in keys:\n",
    "        level = get_composite_level(data[key])\n",
    "        if not level in level_count:\n",
    "            level_count[level] = 0\n",
    "        if data[key]['first_comp'] >= datetime.datetime(year, 1, 1) and data[key]['first_comp'] < datetime.datetime(year+1, 1, 1):\n",
    "            level_count[level] += 1\n",
    "            ret.append(key)\n",
    "    t = np.sum(list(level_count.values()))\n",
    "    print(f'For WCS Competitor (Total: {t}) who got their first point in {year}, we have:')\n",
    "    for key in key_map:\n",
    "        if key in level_count:\n",
    "            percent = str(int(round((level_count[key] / t) * 100))).rjust(2, ' ')\n",
    "            total = str(level_count[key]).rjust(4, ' ')\n",
    "            print(f'{percent}% {total} {key_map[key]}')\n",
    "    print('')\n",
    "    return ret, level_count"
   ]
  },
  {
   "cell_type": "code",
   "execution_count": 9,
   "metadata": {},
   "outputs": [],
   "source": [
    "def print_competitor(competitor):\n",
    "    c = competitor['dancer']\n",
    "    fname = c['first_name']\n",
    "    lname = c['last_name']\n",
    "    wcsid = c['wscid']\n",
    "    print(f'({wcsid}) {fname} {lname}')"
   ]
  },
  {
   "cell_type": "code",
   "execution_count": 10,
   "metadata": {},
   "outputs": [],
   "source": [
    "def get_composite_level(competitor):\n",
    "    return competitor['level']['required'] + '-' + competitor['level']['allowed']"
   ]
  },
  {
   "cell_type": "code",
   "execution_count": 71,
   "metadata": {},
   "outputs": [],
   "source": [
    "def filter_novice_starts(data, keys):\n",
    "    # Filter out anyone who started in novice\n",
    "    for key in keys:\n",
    "        if data[key]['NEW'] == max_dt:\n",
    "            del data[key]\n",
    "            continue\n",
    "    keys = list(data.keys())\n",
    "    return data, keys \n",
    "\n",
    "def filter_newcomer_starts(data, keys):\n",
    "    # Filter out anyone who started in newcomer\n",
    "    for key in keys:\n",
    "        if not data[key]['NEW'] == max_dt:\n",
    "            del data[key]\n",
    "            continue\n",
    "    keys = list(data.keys())\n",
    "    return data, keys \n",
    "def filter_new_dancers(data, keys, first_point_year):\n",
    "    for key in keys:\n",
    "        if data[key]['first_comp'] > datetime.datetime(first_point_year, 1, 1):\n",
    "            del data[key]\n",
    "            continue\n",
    "    keys = list(data.keys())\n",
    "    return data, keys \n",
    "def filter_nov_to_new(data, keys):\n",
    "    for key in keys:\n",
    "        if (data[key]['NOV'] - data[key]['NEW']).days < 0:\n",
    "            del data[key]\n",
    "            continue\n",
    "    keys = list(data.keys())\n",
    "    return data, keys \n",
    "def filter_out_non_jrs(data, keys):\n",
    "    #Only people who started in JRs\n",
    "    for key in keys:\n",
    "        if data[key][jr_key] == max_dt:\n",
    "            del data[key]\n",
    "            continue\n",
    "    keys = list(data.keys())\n",
    "    return data, keys \n",
    "def filter_out_jrs(data, keys):\n",
    "    #Only people who started in JRs\n",
    "    for key in keys:\n",
    "        if not data[key][jr_key] == max_dt:\n",
    "            del data[key]\n",
    "            continue\n",
    "    keys = list(data.keys())\n",
    "    return data, keys\n",
    "def filter_out_leaders(data, keys):\n",
    "    for key in keys:\n",
    "        if data[key]['role'] == 'leader':\n",
    "            del data[key]\n",
    "            continue\n",
    "    keys = list(data.keys())\n",
    "    return data, keys\n",
    "def filter_out_followers(data, keys):\n",
    "    for key in keys:\n",
    "        if data[key]['role'] == 'follower':\n",
    "            del data[key]\n",
    "            continue\n",
    "    keys = list(data.keys())\n",
    "    return data, keys"
   ]
  },
  {
   "cell_type": "code",
   "execution_count": 77,
   "metadata": {},
   "outputs": [],
   "source": [
    "data, keys = load()"
   ]
  },
  {
   "cell_type": "code",
   "execution_count": 78,
   "metadata": {},
   "outputs": [
    {
     "name": "stdout",
     "output_type": "stream",
     "text": [
      "5299\n"
     ]
    }
   ],
   "source": [
    "#data, keys = filter_newcomer_starts(data, keys)\n",
    "data, keys = filter_new_dancers(data, keys, first_point_year)\n",
    "#data, keys = filter_nov_to_new(data, keys)\n",
    "#data, keys = filter_out_jrs(data, keys)\n",
    "data, keys = filter_out_leaders(data, keys)\n",
    "print(len(keys))"
   ]
  },
  {
   "cell_type": "code",
   "execution_count": 79,
   "metadata": {},
   "outputs": [
    {
     "name": "stdout",
     "output_type": "stream",
     "text": [
      "People must start in New/Nov Sanity Check: PASSED\n",
      "\n",
      "Total Starting Novice: 3212\n",
      "Total Starting Newcomer: 2087\n",
      "Total Ever Newcomer: 2087\n",
      "Total Ever Novice: 4153\n",
      "Percentage Novice Started Newcomer 22%\n"
     ]
    }
   ],
   "source": [
    "# Sanity check\n",
    "count_newcomer_start       = len([0 for key in keys if not data[key]['NEW'] == max_dt])\n",
    "count_novice_start         = len([0 for key in keys if     data[key]['NEW'] == max_dt])\n",
    "count_novice_start_check   = len([0 for key in keys if     data[key]['NEW'] == max_dt and not data[key]['NOV'] == max_dt])\n",
    "count_novice               = len([0 for key in keys if not data[key]['NOV'] == max_dt])\n",
    "if count_newcomer_start + count_novice_start == len(keys) and count_novice_start_check == count_novice_start:\n",
    "    print('People must start in New/Nov Sanity Check: PASSED\\n')\n",
    "else:\n",
    "    print('People must start in New/Nov Sanity Check FAILED\\n')\n",
    "print(f'Total Starting Novice: {count_novice_start}')\n",
    "print(f'Total Starting Newcomer: {count_newcomer_start}')\n",
    "print(f'Total Ever Newcomer: {count_newcomer_start}')\n",
    "print(f'Total Ever Novice: {count_novice}')\n",
    "print(f'Percentage Novice Started Newcomer {int(100 * (1 - count_novice_start/count_novice))}%')"
   ]
  },
  {
   "cell_type": "code",
   "execution_count": 80,
   "metadata": {},
   "outputs": [
    {
     "name": "stdout",
     "output_type": "stream",
     "text": [
      "For WCS Competitors (Total: 5299) who got their first point after Jan 1 1900, we have:\n",
      "21% 1118 Newcomer/Novice\n",
      "31% 1656 Novice\n",
      " 7%  379 Novice/Intermediate\n",
      "19% 1007 Intermediate\n",
      " 2%   94 Intermediate/Advanced\n",
      "15%  779 Advanced\n",
      " 1%   45 Advanced/Allstar\n",
      " 3%  179 Allstar\n",
      " 1%   42 Champion\n",
      "\n"
     ]
    }
   ],
   "source": [
    "_ = print_count_stats(1900)#Follower stats"
   ]
  },
  {
   "cell_type": "code",
   "execution_count": 75,
   "metadata": {},
   "outputs": [
    {
     "name": "stdout",
     "output_type": "stream",
     "text": [
      "For WCS Competitors (Total: 4417) who got their first point after Jan 1 1900, we have:\n",
      "19%  859 Newcomer/Novice\n",
      "30% 1305 Novice\n",
      " 8%  343 Novice/Intermediate\n",
      "19%  840 Intermediate\n",
      " 2%   83 Intermediate/Advanced\n",
      "17%  734 Advanced\n",
      " 1%   38 Advanced/Allstar\n",
      " 4%  182 Allstar\n",
      " 1%   33 Champion\n",
      "\n"
     ]
    }
   ],
   "source": [
    "_ = print_count_stats(1900)#Leader Stats"
   ]
  },
  {
   "cell_type": "code",
   "execution_count": 18,
   "metadata": {},
   "outputs": [
    {
     "name": "stdout",
     "output_type": "stream",
     "text": [
      "For WCS Competitors (Total: 11862) who got their first point after Jan 1 2010, we have:\n",
      "36% 4299 Newcomer/Novice\n",
      "27% 3250 Novice\n",
      " 9% 1114 Novice/Intermediate\n",
      "15% 1769 Intermediate\n",
      " 2%  226 Intermediate/Advanced\n",
      " 7%  782 Advanced\n",
      " 1%  103 Advanced/Allstar\n",
      " 3%  308 Allstar\n",
      " 0%   11 Champion\n",
      "\n",
      "For WCS Competitors (Total: 11230) who got their first point after Jan 1 2011, we have:\n",
      "37% 4136 Newcomer/Novice\n",
      "28% 3114 Novice\n",
      "10% 1068 Novice/Intermediate\n",
      "15% 1649 Intermediate\n",
      " 2%  207 Intermediate/Advanced\n",
      " 6%  698 Advanced\n",
      " 1%   96 Advanced/Allstar\n",
      " 2%  257 Allstar\n",
      " 0%    5 Champion\n",
      "\n",
      "For WCS Competitors (Total: 10417) who got their first point after Jan 1 2012, we have:\n",
      "37% 3906 Newcomer/Novice\n",
      "28% 2927 Novice\n",
      " 9%  987 Novice/Intermediate\n",
      "15% 1517 Intermediate\n",
      " 2%  186 Intermediate/Advanced\n",
      " 6%  598 Advanced\n",
      " 1%   78 Advanced/Allstar\n",
      " 2%  214 Allstar\n",
      " 0%    4 Champion\n",
      "\n",
      "For WCS Competitors (Total: 9492) who got their first point after Jan 1 2013, we have:\n",
      "39% 3694 Newcomer/Novice\n",
      "28% 2703 Novice\n",
      " 9%  887 Novice/Intermediate\n",
      "14% 1341 Intermediate\n",
      " 2%  164 Intermediate/Advanced\n",
      " 5%  478 Advanced\n",
      " 1%   66 Advanced/Allstar\n",
      " 2%  157 Allstar\n",
      " 0%    2 Champion\n",
      "\n",
      "For WCS Competitors (Total: 8472) who got their first point after Jan 1 2014, we have:\n",
      "40% 3401 Newcomer/Novice\n",
      "29% 2460 Novice\n",
      " 9%  792 Novice/Intermediate\n",
      "14% 1148 Intermediate\n",
      " 2%  135 Intermediate/Advanced\n",
      " 4%  368 Advanced\n",
      " 1%   55 Advanced/Allstar\n",
      " 1%  113 Allstar\n",
      " 0%    0 Champion\n",
      "\n",
      "For WCS Competitors (Total: 7197) who got their first point after Jan 1 2015, we have:\n",
      "42% 3010 Newcomer/Novice\n",
      "30% 2155 Novice\n",
      " 9%  667 Novice/Intermediate\n",
      "13%  901 Intermediate\n",
      " 1%  107 Intermediate/Advanced\n",
      " 4%  261 Advanced\n",
      " 1%   36 Advanced/Allstar\n",
      " 1%   60 Allstar\n",
      " 0%    0 Champion\n",
      "\n",
      "For WCS Competitors (Total: 5884) who got their first point after Jan 1 2016, we have:\n",
      "43% 2540 Newcomer/Novice\n",
      "31% 1820 Novice\n",
      " 9%  529 Novice/Intermediate\n",
      "12%  696 Intermediate\n",
      " 1%   77 Intermediate/Advanced\n",
      " 3%  161 Advanced\n",
      " 0%   25 Advanced/Allstar\n",
      " 1%   36 Allstar\n",
      " 0%    0 Champion\n",
      "\n",
      "For WCS Competitors (Total: 4437) who got their first point after Jan 1 2017, we have:\n",
      "46% 2027 Newcomer/Novice\n",
      "33% 1444 Novice\n",
      " 8%  367 Novice/Intermediate\n",
      "10%  456 Intermediate\n",
      " 1%   36 Intermediate/Advanced\n",
      " 2%   85 Advanced\n",
      " 0%   10 Advanced/Allstar\n",
      " 0%   12 Allstar\n",
      " 0%    0 Champion\n",
      "\n",
      "For WCS Competitors (Total: 2927) who got their first point after Jan 1 2018, we have:\n",
      "49% 1441 Newcomer/Novice\n",
      "34%  996 Novice\n",
      " 8%  230 Novice/Intermediate\n",
      " 8%  222 Intermediate\n",
      " 0%   11 Intermediate/Advanced\n",
      " 1%   25 Advanced\n",
      " 0%    1 Advanced/Allstar\n",
      " 0%    1 Allstar\n",
      " 0%    0 Champion\n",
      "\n",
      "For WCS Competitors (Total: 1639) who got their first point after Jan 1 2019, we have:\n",
      "54%  882 Newcomer/Novice\n",
      "37%  607 Novice\n",
      " 6%  100 Novice/Intermediate\n",
      " 3%   47 Intermediate\n",
      " 0%    1 Intermediate/Advanced\n",
      " 0%    2 Advanced\n",
      " 0%    0 Advanced/Allstar\n",
      " 0%    0 Allstar\n",
      " 0%    0 Champion\n",
      "\n",
      "For WCS Competitors (Total: 237) who got their first point after Jan 1 2020, we have:\n",
      "68%  160 Newcomer/Novice\n",
      "32%   76 Novice\n",
      " 0%    1 Novice/Intermediate\n",
      " 0%    0 Intermediate\n",
      " 0%    0 Intermediate/Advanced\n",
      " 0%    0 Advanced\n",
      " 0%    0 Advanced/Allstar\n",
      " 0%    0 Allstar\n",
      " 0%    0 Champion\n",
      "\n"
     ]
    }
   ],
   "source": [
    "# Count dancers by level\n",
    "for year in range(min_year, max_year):\n",
    "    print_count_stats(year)"
   ]
  },
  {
   "cell_type": "code",
   "execution_count": 19,
   "metadata": {},
   "outputs": [
    {
     "name": "stdout",
     "output_type": "stream",
     "text": [
      "For WCS Competitor (Total: 632) who got their first point in 2010, we have:\n",
      "26%  163 Newcomer/Novice\n",
      "22%  136 Novice\n",
      " 7%   46 Novice/Intermediate\n",
      "19%  120 Intermediate\n",
      " 3%   19 Intermediate/Advanced\n",
      "13%   84 Advanced\n",
      " 1%    7 Advanced/Allstar\n",
      " 8%   51 Allstar\n",
      " 1%    6 Champion\n",
      "\n",
      "For WCS Competitor (Total: 813) who got their first point in 2011, we have:\n",
      "28%  230 Newcomer/Novice\n",
      "23%  187 Novice\n",
      "10%   81 Novice/Intermediate\n",
      "16%  132 Intermediate\n",
      " 3%   21 Intermediate/Advanced\n",
      "12%  100 Advanced\n",
      " 2%   18 Advanced/Allstar\n",
      " 5%   43 Allstar\n",
      " 0%    1 Champion\n",
      "\n",
      "For WCS Competitor (Total: 925) who got their first point in 2012, we have:\n",
      "23%  212 Newcomer/Novice\n",
      "24%  224 Novice\n",
      "11%  100 Novice/Intermediate\n",
      "19%  176 Intermediate\n",
      " 2%   22 Intermediate/Advanced\n",
      "13%  120 Advanced\n",
      " 1%   12 Advanced/Allstar\n",
      " 6%   57 Allstar\n",
      " 0%    2 Champion\n",
      "\n",
      "For WCS Competitor (Total: 1020) who got their first point in 2013, we have:\n",
      "29%  293 Newcomer/Novice\n",
      "24%  243 Novice\n",
      " 9%   95 Novice/Intermediate\n",
      "19%  193 Intermediate\n",
      " 3%   29 Intermediate/Advanced\n",
      "11%  110 Advanced\n",
      " 1%   11 Advanced/Allstar\n",
      " 4%   44 Allstar\n",
      " 0%    2 Champion\n",
      "\n",
      "For WCS Competitor (Total: 1275) who got their first point in 2014, we have:\n",
      "31%  391 Newcomer/Novice\n",
      "24%  305 Novice\n",
      "10%  125 Novice/Intermediate\n",
      "19%  247 Intermediate\n",
      " 2%   28 Intermediate/Advanced\n",
      " 8%  107 Advanced\n",
      " 1%   19 Advanced/Allstar\n",
      " 4%   53 Allstar\n",
      " 0%    0 Champion\n",
      "\n",
      "For WCS Competitor (Total: 1313) who got their first point in 2015, we have:\n",
      "36%  470 Newcomer/Novice\n",
      "26%  335 Novice\n",
      "11%  138 Novice/Intermediate\n",
      "16%  205 Intermediate\n",
      " 2%   30 Intermediate/Advanced\n",
      " 8%  100 Advanced\n",
      " 1%   11 Advanced/Allstar\n",
      " 2%   24 Allstar\n",
      " 0%    0 Champion\n",
      "\n",
      "For WCS Competitor (Total: 1447) who got their first point in 2016, we have:\n",
      "35%  513 Newcomer/Novice\n",
      "26%  376 Novice\n",
      "11%  162 Novice/Intermediate\n",
      "17%  240 Intermediate\n",
      " 3%   41 Intermediate/Advanced\n",
      " 5%   76 Advanced\n",
      " 1%   15 Advanced/Allstar\n",
      " 2%   24 Allstar\n",
      " 0%    0 Champion\n",
      "\n",
      "For WCS Competitor (Total: 1510) who got their first point in 2017, we have:\n",
      "39%  586 Newcomer/Novice\n",
      "30%  448 Novice\n",
      " 9%  137 Novice/Intermediate\n",
      "15%  234 Intermediate\n",
      " 2%   25 Intermediate/Advanced\n",
      " 4%   60 Advanced\n",
      " 1%    9 Advanced/Allstar\n",
      " 1%   11 Allstar\n",
      " 0%    0 Champion\n",
      "\n",
      "For WCS Competitor (Total: 1288) who got their first point in 2018, we have:\n",
      "43%  559 Newcomer/Novice\n",
      "30%  389 Novice\n",
      "10%  130 Novice/Intermediate\n",
      "14%  175 Intermediate\n",
      " 1%   10 Intermediate/Advanced\n",
      " 2%   23 Advanced\n",
      " 0%    1 Advanced/Allstar\n",
      " 0%    1 Allstar\n",
      " 0%    0 Champion\n",
      "\n",
      "For WCS Competitor (Total: 1402) who got their first point in 2019, we have:\n",
      "51%  722 Newcomer/Novice\n",
      "38%  531 Novice\n",
      " 7%   99 Novice/Intermediate\n",
      " 3%   47 Intermediate\n",
      " 0%    1 Intermediate/Advanced\n",
      " 0%    2 Advanced\n",
      " 0%    0 Advanced/Allstar\n",
      " 0%    0 Allstar\n",
      " 0%    0 Champion\n",
      "\n",
      "For WCS Competitor (Total: 237) who got their first point in 2020, we have:\n",
      "68%  160 Newcomer/Novice\n",
      "32%   76 Novice\n",
      " 0%    1 Novice/Intermediate\n",
      " 0%    0 Intermediate\n",
      " 0%    0 Intermediate/Advanced\n",
      " 0%    0 Advanced\n",
      " 0%    0 Advanced/Allstar\n",
      " 0%    0 Allstar\n",
      " 0%    0 Champion\n",
      "\n"
     ]
    }
   ],
   "source": [
    "# Count dancers by level\n",
    "for year in range(min_year, max_year):\n",
    "    print_count_stats_one_year(year)"
   ]
  },
  {
   "cell_type": "code",
   "execution_count": 20,
   "metadata": {},
   "outputs": [
    {
     "name": "stdout",
     "output_type": "stream",
     "text": [
      "For WCS Competitors (Total: 4437) who got their first point after Jan 1 2017, we have:\n",
      "46% 2027 Newcomer/Novice\n",
      "33% 1444 Novice\n",
      " 8%  367 Novice/Intermediate\n",
      "10%  456 Intermediate\n",
      " 1%   36 Intermediate/Advanced\n",
      " 2%   85 Advanced\n",
      " 0%   10 Advanced/Allstar\n",
      " 0%   12 Allstar\n",
      " 0%    0 Champion\n",
      "\n",
      "Competitors reaching Allstar since Jan 2017\n",
      "(15296) Kathleen Sun\n",
      "(15300) Deon Harrell\n",
      "(15378) Raisa Khismatullina\n",
      "(15581) Attila Kobori\n",
      "(15656) Tuan Nguyen\n",
      "(16071) Emily J. Huang\n",
      "(16096) Elizabeth Ferreira\n",
      "(16222) Tim Kenny\n",
      "(16285) Melodie Paletta\n",
      "(16370) Samantha Boice\n",
      "(16485) Omar Gonzalez\n",
      "(17980) Jt Anderson\n",
      "\n",
      "Competitors reaching Advanced/Allstar since Jan 2017\n",
      "(15530) Alexandra Branco\n",
      "(15606) Dimitri Hector\n",
      "(15684) Christian Kaller\n",
      "(15713) Clement Turpain\n",
      "(15837) Charlotte Zell\n",
      "(15928) Florian Simon\n",
      "(16097) Laurel Walker\n",
      "(16270) Stephen Freeman\n",
      "(16854) Gabi Wasserman\n",
      "(16905) Alec Grant\n",
      "\n"
     ]
    }
   ],
   "source": [
    "# Who grew quickly recently?\n",
    "year = 2017\n",
    "competitors, _ = print_count_stats(year)\n",
    "for composite in ['ALS-ALS', 'ADV-ALS']:\n",
    "    print(f'Competitors reaching {key_map[composite]} since Jan {year}')\n",
    "    for competitor in competitors:\n",
    "        if get_composite_level(data[competitor]) == composite:\n",
    "            print_competitor(data[competitor])\n",
    "    print('')"
   ]
  },
  {
   "cell_type": "code",
   "execution_count": 21,
   "metadata": {},
   "outputs": [
    {
     "name": "stdout",
     "output_type": "stream",
     "text": [
      "For people who reach these levels:\n",
      "\n",
      "1.422 mean years from first points in Newcomer      -> Novice       \n",
      "2.611 mean years from first points in Newcomer      -> Intermediate \n",
      "3.656 mean years from first points in Newcomer      -> Advanced     \n",
      "5.018 mean years from first points in Newcomer      -> Allstar      \n",
      "1.834 mean years from first points in Novice        -> Intermediate \n",
      "3.103 mean years from first points in Novice        -> Advanced     \n",
      "5.061 mean years from first points in Novice        -> Allstar      \n",
      "1.988 mean years from first points in Intermediate  -> Advanced     \n",
      "3.879 mean years from first points in Intermediate  -> Allstar      \n",
      "2.888 mean years from first points in Advanced      -> Allstar      \n"
     ]
    }
   ],
   "source": [
    "print('For people who reach these levels:\\n')\n",
    "def diff_inds(key, i, j):\n",
    "    return (data[key][divs[j]] - data[key][divs[i]]).days / 365\n",
    "top = len(divs)-1\n",
    "for i in range(top):\n",
    "    for j in range(i+1, top):\n",
    "        s_str = keys_map_basic[divs[i]].ljust(13, ' ')\n",
    "        t_str = keys_map_basic[divs[j]].ljust(13, ' ')\n",
    "        valids = [diff_inds(key, i, j) for key in keys if diff_inds(key, i, j) < 50 and diff_inds(key, i, j) > 0]\n",
    "        avg = np.mean(valids)\n",
    "        print(f'{avg:.3f} mean years from first points in {s_str} -> {t_str}')        "
   ]
  },
  {
   "cell_type": "code",
   "execution_count": 22,
   "metadata": {},
   "outputs": [
    {
     "name": "stdout",
     "output_type": "stream",
     "text": [
      "For people who reach these levels:\n",
      "\n",
      "1.000 median years from first points in Newcomer      -> Novice       \n",
      "2.167 median years from first points in Newcomer      -> Intermediate \n",
      "3.088 median years from first points in Newcomer      -> Advanced     \n",
      "4.668 median years from first points in Newcomer      -> Allstar      \n",
      "1.337 median years from first points in Novice        -> Intermediate \n",
      "2.584 median years from first points in Novice        -> Advanced     \n",
      "4.422 median years from first points in Novice        -> Allstar      \n",
      "1.504 median years from first points in Intermediate  -> Advanced     \n",
      "3.337 median years from first points in Intermediate  -> Allstar      \n",
      "2.164 median years from first points in Advanced      -> Allstar      \n"
     ]
    }
   ],
   "source": [
    "print('For people who reach these levels:\\n')\n",
    "def diff_inds(key, i, j):\n",
    "    return (data[key][divs[j]] - data[key][divs[i]]).days / 365\n",
    "top = len(divs)-1\n",
    "for i in range(top):\n",
    "    for j in range(i+1, top):\n",
    "        s_str = keys_map_basic[divs[i]].ljust(13, ' ')\n",
    "        t_str = keys_map_basic[divs[j]].ljust(13, ' ')\n",
    "        valids = [diff_inds(key, i, j) for key in keys if diff_inds(key, i, j) < 50 and diff_inds(key, i, j) > 0]\n",
    "        med = np.median(valids)\n",
    "        print(f'{med:.3f} median years from first points in {s_str} -> {t_str}')        "
   ]
  },
  {
   "cell_type": "code",
   "execution_count": 23,
   "metadata": {},
   "outputs": [
    {
     "name": "stdout",
     "output_type": "stream",
     "text": [
      "Total people: 16746\n",
      "Total number of people with a point in the following divs:\n",
      "\n",
      "Newcomer    : 8128\n",
      "Novice      : 11767\n",
      "Intermediate: 5149\n",
      "Advanced    : 2357\n",
      "Allstar     : 761\n"
     ]
    }
   ],
   "source": [
    "# Counts in each div\n",
    "print(f'Total people: {len(keys)}')\n",
    "print('Total number of people with a point in the following divs:\\n')\n",
    "count_with_points = {}\n",
    "for i in range(len(divs)-1):\n",
    "    count = len([0 for key in keys if data[key][divs[i]] > min_dt and data[key][divs[i]] < max_dt])\n",
    "    count_with_points[divs[i]] = count\n",
    "    justified = keys_map_basic[divs[i]].ljust(12, ' ')\n",
    "    print(f'{justified}: {count}')"
   ]
  },
  {
   "cell_type": "code",
   "execution_count": 21,
   "metadata": {},
   "outputs": [
    {
     "name": "stdout",
     "output_type": "stream",
     "text": [
      "For people who reach these levels:\n",
      "\n"
     ]
    },
    {
     "data": {
      "image/png": "[encoded data removed]",
      "text/plain": [
       "<Figure size 432x288 with 1 Axes>"
      ]
     },
     "metadata": {
      "needs_background": "light"
     },
     "output_type": "display_data"
    },
    {
     "data": {
      "image/png": "[encoded data removed]",
      "text/plain": [
       "<Figure size 432x288 with 1 Axes>"
      ]
     },
     "metadata": {
      "needs_background": "light"
     },
     "output_type": "display_data"
    },
    {
     "data": {
      "image/png": "[encoded data removed]",
      "text/plain": [
       "<Figure size 432x288 with 1 Axes>"
      ]
     },
     "metadata": {
      "needs_background": "light"
     },
     "output_type": "display_data"
    },
    {
     "data": {
      "image/png": "[encoded data removed]",
      "text/plain": [
       "<Figure size 432x288 with 1 Axes>"
      ]
     },
     "metadata": {
      "needs_background": "light"
     },
     "output_type": "display_data"
    },
    {
     "data": {
      "image/png": "[encoded data removed]",
      "text/plain": [
       "<Figure size 432x288 with 1 Axes>"
      ]
     },
     "metadata": {
      "needs_background": "light"
     },
     "output_type": "display_data"
    },
    {
     "data": {
      "image/png": "[encoded data removed]",
      "text/plain": [
       "<Figure size 432x288 with 1 Axes>"
      ]
     },
     "metadata": {
      "needs_background": "light"
     },
     "output_type": "display_data"
    }
   ],
   "source": [
    "print('For people who reach these levels:\\n')\n",
    "def diff_inds(key, i, j):\n",
    "    return (data[key][divs[j]] - data[key][divs[i]]).days / 365\n",
    "top = len(divs)-1 # Ignore champs for now. They have too many different comp types.\n",
    "for i in range(1, top):\n",
    "    for j in range(i+1, top):\n",
    "        s_str = keys_map_basic[divs[i]]\n",
    "        t_str = keys_map_basic[divs[j]]\n",
    "        valids = [diff_inds(key, i, j) for key in keys if diff_inds(key, i, j) < 50 and diff_inds(key, i, j) > 0]\n",
    "        avg = np.mean(valids)\n",
    "        med = np.median(valids)\n",
    "        p25 = np.percentile(valids, 25)\n",
    "        p75 = np.percentile(valids, 75)\n",
    "        percent = (100 * len(valids)/(0.0001+count_with_points[divs[i]]))\n",
    "        plt.figure()\n",
    "        plt.title(f'{s_str} -> {t_str} ({len(valids)}/{count_with_points[divs[i]]} {percent:.1f}%)')\n",
    "        plt.hist(valids, 100, range=(0, 25))\n",
    "        plt.axvline(avg, color='k', linestyle='dashed', linewidth=1)\n",
    "        plt.axvline(med, color='r', linestyle='dashed', linewidth=1)\n",
    "        plt.axvline(p25, color='y', linestyle='dashed', linewidth=1)\n",
    "        plt.axvline(p75, color='y', linestyle='dashed', linewidth=1)\n",
    "        plt.xlabel(f'Years (Median:{med:.1f} Mean:{avg:.1f} P25:{p25:.1f} P75:{p75:.1f})')\n",
    "        plt.ylabel('# Competitors Making Jump')"
   ]
  },
  {
   "cell_type": "code",
   "execution_count": 15,
   "metadata": {},
   "outputs": [
    {
     "name": "stdout",
     "output_type": "stream",
     "text": [
      "Fastest Growing Competitors\n",
      "(7447) Jason Bryan\n",
      "\t1) 0.42 2010-03-01 00:00:00\n",
      "(8146) Jesse Vos\n",
      "\t2) 0.67 2011-03-01 00:00:00\n",
      "(3138) Melissa Rutz\n",
      "\t3) 1.00 2002-01-01 00:00:00\n",
      "(3697) Will Carlton\n",
      "\t4) 1.16 2003-02-01 00:00:00\n",
      "(9069) Lindsey Nastos\n",
      "\t5) 1.25 2012-04-01 00:00:00\n",
      "(4904) Xavier Young\n",
      "\t6) 1.34 2005-07-01 00:00:00\n",
      "(11908) Hailee Vaughan Hargis\n",
      "\t7) 1.42 2014-09-01 00:00:00\n",
      "(14091) Mia Primavera\n",
      "\t8) 1.42 2016-04-01 00:00:00\n",
      "(15300) Deon Harrell\n",
      "\t9) 1.50 2017-01-01 00:00:00\n",
      "(8814) Stacy Kay\n",
      "\t10) 1.50 2011-11-01 00:00:00\n"
     ]
    }
   ],
   "source": [
    "print('Fastest Growing Competitors')\n",
    "sorted_competitors = sorted(keys, key=lambda k: (data[k]['ALS'] - data[k]['first_comp']).days)\n",
    "top = 10\n",
    "for i, k in enumerate(sorted_competitors[0:top]):\n",
    "    new_to_als = (data[k]['ALS'] - data[k]['first_comp']).days / 365\n",
    "    f_c = data[k]['first_comp']\n",
    "    print_competitor(data[k])\n",
    "    print(f'\\t{i+1}) {new_to_als:.2f} {f_c}')"
   ]
  },
  {
   "cell_type": "code",
   "execution_count": 16,
   "metadata": {},
   "outputs": [
    {
     "name": "stdout",
     "output_type": "stream",
     "text": [
      "Most Recent All Stars\n",
      "(9397) David Clavilier \n",
      "\t1) 7.51 FC: 2012-08-01 00:00:00 ALS: 2020-02-01 00:00:00\n",
      "(11199) Anna DmiTRieva\n",
      "\t2) 5.93 FC: 2014-03-01 00:00:00 ALS: 2020-02-01 00:00:00\n",
      "(14837) Tom-Elbin Bendheim\n",
      "\t3) 3.42 FC: 2016-09-01 00:00:00 ALS: 2020-02-01 00:00:00\n",
      "(15296) Kathleen Sun\n",
      "\t4) 3.08 FC: 2017-01-01 00:00:00 ALS: 2020-02-01 00:00:00\n",
      "(16096) Elizabeth Ferreira\n",
      "\t5) 2.59 FC: 2017-07-01 00:00:00 ALS: 2020-02-01 00:00:00\n",
      "(16097) Laurel Walker\n",
      "\t6) 2.59 FC: 2017-07-01 00:00:00 ALS: 2020-02-01 00:00:00\n",
      "(10941) Trine Nordkvelle\n",
      "\t7) 6.00 FC: 2014-01-01 00:00:00 ALS: 2020-01-01 00:00:00\n",
      "(12203) Annika Valimaa\n",
      "\t8) 5.25 FC: 2014-10-01 00:00:00 ALS: 2020-01-01 00:00:00\n",
      "(14563) Leo Lorenzo\n",
      "\t9) 3.67 FC: 2016-05-01 00:00:00 ALS: 2020-01-01 00:00:00\n",
      "(15201) Jula Palenga\n",
      "\t10) 3.08 FC: 2016-12-01 00:00:00 ALS: 2020-01-01 00:00:00\n"
     ]
    }
   ],
   "source": [
    "print('Most Recent All Stars')\n",
    "sorted_competitors = filter(lambda x: not data[x]['ALS'] == max_dt, keys)\n",
    "sorted_competitors = sorted(sorted_competitors, key=lambda k: (datetime.datetime.now() - data[k]['ALS']).days)\n",
    "top = 10\n",
    "for i, k in enumerate(sorted_competitors[0:top]):\n",
    "    new_to_als = (data[k]['ALS'] - data[k]['first_comp']).days / 365\n",
    "    f_c = data[k]['first_comp']\n",
    "    als = data[k]['ALS']\n",
    "    print_competitor(data[k])\n",
    "    print(f'\\t{i+1}) {new_to_als:.2f} FC: {f_c} ALS: {als}')"
   ]
  },
  {
   "cell_type": "code",
   "execution_count": 17,
   "metadata": {},
   "outputs": [
    {
     "name": "stdout",
     "output_type": "stream",
     "text": [
      "Time From Newcomer to Novice Statistics\n",
      "Reached at Least Novice       :  Med: -32082  P25: -34578 P75: -30590\n",
      "Reached at Least Intermediate :  Med: -32356  P25: -34667 P75: -31107\n",
      "Reached at Least Advanced     :  Med: -33040  P25: -35613 P75: -31686\n",
      "Reached at Least Allstar      :  Med: -32994  P25: -34912 P75: -31929\n"
     ]
    },
    {
     "data": {
      "image/png": "[encoded data removed]",
      "text/plain": [
       "<Figure size 432x288 with 1 Axes>"
      ]
     },
     "metadata": {
      "needs_background": "light"
     },
     "output_type": "display_data"
    }
   ],
   "source": [
    "plt.title(f'Distribution of Time From Newcomer to Novice')\n",
    "plt.xlabel(f'Days From First Newcomer to First Novice Point')\n",
    "plt.ylabel('Normalized Distribution')\n",
    "\n",
    "min_pct = 25\n",
    "max_pct = 75\n",
    "\n",
    "stats_divs = ['NOV', 'INT', 'ADV', 'ALS']\n",
    "colors = ['g', 'b', 'y', 'r']\n",
    "\n",
    "print('Time From Newcomer to Novice Statistics')\n",
    "for div, color in zip(stats_divs, colors):\n",
    "    people = [x for x in keys if not data[x][div] == max_dt and not data[x]['NOV'] == max_dt]\n",
    "    counts = [(data[x]['NOV'] - data[x]['NEW']).days for x in people]\n",
    "    med = np.median(counts)\n",
    "    pmin = np.percentile(counts, min_pct)\n",
    "    pmax = np.percentile(counts, max_pct)\n",
    "    hist = plt.hist(counts, color=color, bins=50, density=True)\n",
    "    namestr = keys_map_basic[div].ljust(13, ' ')\n",
    "    med_str  = str(int(med)).rjust( 4, ' ')\n",
    "    pmin_str = str(int(pmin)).rjust(4, ' ')\n",
    "    pmax_str = str(int(pmax)).rjust(4, ' ')\n",
    "    print(f'Reached at Least {namestr}:  Med: {med_str}  P{str(min_pct)}: {pmin_str} P{str(max_pct)}: {pmax_str}')"
   ]
  },
  {
   "cell_type": "code",
   "execution_count": 403,
   "metadata": {},
   "outputs": [
    {
     "name": "stdout",
     "output_type": "stream",
     "text": [
      "Mean Classifier Accuracy: 70.1%\n",
      "TP: 35 FP: 401 TN: 540 FN: 11\n",
      "TP/(TP+FN): 0.76\n",
      "TN/(TN+FP): 0.57\n",
      "FN/(TP+FN): 0.24\n",
      "FP/(TN+FP): 0.43\n",
      "TP/(TP+FP): 0.08\n",
      "FP/(TP+FP): 0.92\n",
      "FN/(TP+FN): 0.24\n"
     ]
    }
   ],
   "source": [
    "from sklearn.ensemble import RandomForestClassifier\n",
    "scores = []\n",
    "for random_state in range(5):\n",
    "    X_delta = [(data[x]['NOV'] - data[x]['NEW']).days for x in keys if not data[x]['NOV'] == max_dt]\n",
    "    X_new_points = [(data[x]['placements']['West Coast Swing']['NEW']['total_points']) for x in keys if not data[x]['NOV'] == max_dt]\n",
    "    X = np.vstack((X_delta, X_new_points)).transpose()\n",
    "    y = [not data[x]['ALS'] == max_dt for x in keys if not data[x]['NOV'] == max_dt]\n",
    "    X_train, X_test, y_train, y_test = train_test_split(X, y, test_size=0.33, random_state=random_state)\n",
    "    clf = \n",
    "    #clf = RandomForestClassifier(n_estimators=10, max_depth=4, min_samples_leaf=200, class_weight='balanced_subsample', random_state=random_state)\n",
    "    clf.fit(X_train, y_train)\n",
    "    preds = (clf.predict(X_test))\n",
    "    score = clf.score(X_test, y_test) * 100 \n",
    "    scores.append(score)\n",
    "    tn, fp, fn, tp = confusion_matrix(y_test, preds).ravel()\n",
    "print(f'Mean Classifier Accuracy: {mean_acc:.1f}%')\n",
    "print(f'TP: {tp} FP: {fp} TN: {tn} FN: {fn}')\n",
    "print(f'TP/(TP+FN): {tp/(tp+fn):.2f}')\n",
    "print(f'TN/(TN+FP): {tn/(tn+fp):.2f}')\n",
    "print(f'FN/(TP+FN): {fn/(tp+fn):.2f}')\n",
    "print(f'FP/(TN+FP): {fp/(tn+fp):.2f}')\n",
    "print(f'TP/(TP+FP): {tp/(tp+fp):.2f}')\n",
    "print(f'FP/(TP+FP): {fp/(tp+fp):.2f}')\n",
    "print(f'FN/(TP+FN): {fn/(tp+fn):.2f}')"
   ]
  },
  {
   "cell_type": "code",
   "execution_count": 417,
   "metadata": {},
   "outputs": [
    {
     "name": "stdout",
     "output_type": "stream",
     "text": [
      "Will Tristan Tariao-Lee make All Star? No :(\n"
     ]
    }
   ],
   "source": [
    "pid = '12981'\n",
    "person = data[pid]\n",
    "name = person['dancer']['first_name'] + ' '+ person['dancer']['last_name']\n",
    "X_person = [[(person['NOV'] - person['NEW']).days, person['placements']['West Coast Swing']['NEW']['total_points']]]\n",
    "if not clf.predict(X_person)[0]:\n",
    "    yn = 'Yes!'\n",
    "else:\n",
    "    yn = 'No :('\n",
    "print(f'Will {name} make All Star? {yn}')"
   ]
  },
  {
   "cell_type": "code",
   "execution_count": 430,
   "metadata": {},
   "outputs": [
    {
     "name": "stdout",
     "output_type": "stream",
     "text": [
      "-2.2812968012501322\n"
     ]
    },
    {
     "name": "stderr",
     "output_type": "stream",
     "text": [
      "/home/epaper/anaconda3/envs/ipas/lib/python3.7/site-packages/sklearn/svm/base.py:193: FutureWarning: The default value of gamma will change from 'auto' to 'scale' in version 0.22 to account better for unscaled features. Set gamma explicitly to 'auto' or 'scale' to avoid this warning.\n",
      "  \"avoid this warning.\", FutureWarning)\n"
     ]
    }
   ],
   "source": [
    "for random_state in range(1):\n",
    "    X_delta = [(data[x]['NOV'] - data[x]['NEW']).days for x in keys if not data[x]['NOV'] == max_dt and not data[x]['ALS'] == max_dt]\n",
    "    X_new_points = [(data[x]['placements']['West Coast Swing']['NEW']['total_points']) for x in keys if not data[x]['NOV'] == max_dt and not data[x]['ALS'] == max_dt]\n",
    "    X = np.vstack((X_delta, X_new_points)).transpose()\n",
    "    y = [(data[x]['ALS'] - data[x]['NEW']).days for x in keys if not data[x]['NOV'] == max_dt and not data[x]['ALS'] == max_dt]\n",
    "    X_train, X_test, y_train, y_test = train_test_split(X, y, test_size=0.33, random_state=random_state)\n",
    "    clf = SVR()\n",
    "    clf.fit(X_train, y_train)\n",
    "    preds = (clf.predict(X_test))\n",
    "    score = clf.score(X_test, y_test) * 100 \n",
    "    print(score)"
   ]
  },
  {
   "cell_type": "code",
   "execution_count": 446,
   "metadata": {},
   "outputs": [
    {
     "name": "stdout",
     "output_type": "stream",
     "text": [
      "When will Michael Medini make All Star? 2019-02-28 20:39:03.868788\n"
     ]
    }
   ],
   "source": [
    "from datetime import timedelta\n",
    "pid = '11650'\n",
    "person = data[pid]\n",
    "name = person['dancer']['first_name'] + ' '+ person['dancer']['last_name']\n",
    "X_person = [[(person['NOV'] - person['NEW']).days, person['placements']['West Coast Swing']['NEW']['total_points']]]\n",
    "day = person['first_comp'] + timedelta(days=clf.predict(X_person)[0])\n",
    "print(f'When will {name} make All Star? {day}')"
   ]
  },
  {
   "cell_type": "code",
   "execution_count": 418,
   "metadata": {},
   "outputs": [
    {
     "data": {
      "image/png": "[encoded data removed]",
      "text/plain": [
       "<Figure size 432x288 with 1 Axes>"
      ]
     },
     "metadata": {
      "needs_background": "light"
     },
     "output_type": "display_data"
    }
   ],
   "source": [
    "plt.figure()\n",
    "plt.title('Allstar vs General Distributions')\n",
    "plt.xlabel('Days From First Newcomer to First Novice Point')\n",
    "plt.ylabel('Points in Newcomer When Leaving')\n",
    "X_x = X[:,0]\n",
    "X_y = X[:,1]\n",
    "nov_X_x = [x for i, x in enumerate(X_x) if not y[i]]\n",
    "nov_X_y = [x for i, x in enumerate(X_y) if not y[i]]\n",
    "plt.scatter(nov_X_x, nov_X_y)\n",
    "als_X_x = [x for i, x in enumerate(X_x) if y[i]]\n",
    "als_X_y = [x for i, x in enumerate(X_y) if y[i]]\n",
    "plt.scatter(als_X_x, als_X_y, color='red')\n",
    "if person:\n",
    "    plt.scatter([X_person[0][0]], [X_person[0][1]], color='g')"
   ]
  },
  {
   "cell_type": "code",
   "execution_count": null,
   "metadata": {},
   "outputs": [],
   "source": []
  }
 ],
 "metadata": {
  "kernelspec": {
   "display_name": "Python 3.7.4 64-bit",
   "language": "python",
   "name": "python37464bit5c4759ea5c7e474aa3bbd2abe04d07dd"
  },
  "language_info": {
   "codemirror_mode": {
    "name": "ipython",
    "version": 3
   },
   "file_extension": ".py",
   "mimetype": "text/x-python",
   "name": "python",
   "nbconvert_exporter": "python",
   "pygments_lexer": "ipython3",
   "version": "3.7.4"
  }
 },
 "nbformat": 4,
 "nbformat_minor": 2
}
