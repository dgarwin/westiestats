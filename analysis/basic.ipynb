{
 "cells": [
  {
   "cell_type": "code",
   "execution_count": 132,
   "metadata": {},
   "outputs": [],
   "source": [
    "import json\n",
    "import datetime\n",
    "import numpy as np"
   ]
  },
  {
   "cell_type": "code",
   "execution_count": 3,
   "metadata": {},
   "outputs": [
    {
     "name": "stderr",
     "output_type": "stream",
     "text": [
      "IOPub data rate exceeded.\n",
      "The notebook server will temporarily stop sending output\n",
      "to the client in order to avoid crashing it.\n",
      "To change this limit, set the config variable\n",
      "`--NotebookApp.iopub_data_rate_limit`.\n",
      "\n",
      "Current values:\n",
      "NotebookApp.iopub_data_rate_limit=1000000.0 (bytes/sec)\n",
      "NotebookApp.rate_limit_window=3.0 (secs)\n",
      "\n"
     ]
    }
   ],
   "source": [
    "def load():\n",
    "    with open('../data/regPoints_full.json') as f:\n",
    "        data = json.load(f)\n",
    "    keys = list(data.keys())\n",
    "    # Transform data\n",
    "    for key in keys:\n",
    "        data[key]['first_comp'] = get_first_comp(data[key])\n",
    "    return data, keys\n",
    "data, keys = load()"
   ]
  },
  {
   "cell_type": "code",
   "execution_count": 21,
   "metadata": {},
   "outputs": [],
   "source": [
    "#GLOBALS\n",
    "key_map = {'NEW': 'Newcomer', 'NOV': 'Novice', 'INT': 'Intermediate', 'ADV': 'Advanced',  'ALS': 'Allstar', 'ALS+': 'Champion'}"
   ]
  },
  {
   "cell_type": "code",
   "execution_count": 126,
   "metadata": {},
   "outputs": [],
   "source": [
    "def get_first_comp(competitior):\n",
    "    ret = datetime.datetime(2021, 1, 1)\n",
    "    if len(competitior['placements']) == 0 or 'West Coast Swing' not in competitior['placements']:\n",
    "        return datetime.datetime(1900, 1, 1)\n",
    "    for division in competitior['placements']['West Coast Swing']: \n",
    "        for comp in competitior['placements']['West Coast Swing'][division]['competitions']:\n",
    "            comp_date = comp['event']['date']\n",
    "            comp_date = datetime.datetime.strptime(comp_date, '%B %Y')\n",
    "            if ret > comp_date:\n",
    "                ret = comp_date\n",
    "    return ret"
   ]
  },
  {
   "cell_type": "code",
   "execution_count": 172,
   "metadata": {},
   "outputs": [],
   "source": [
    "def print_count_stats(year):\n",
    "    level_count = {}\n",
    "    ret = []\n",
    "    for key in keys:\n",
    "        level = data[key]['level']['required']\n",
    "        if not level in level_count:\n",
    "            level_count[level] = 0\n",
    "        if data[key]['first_comp'] >= datetime.datetime(year, 1, 1):\n",
    "            level_count[level] += 1\n",
    "            ret.append(key)\n",
    "    t = np.sum(list(level_count.values()))\n",
    "    print(f'For WCS Competitiors (Total: {t}) placed for the first time after Jan 1 {year}, we have:')\n",
    "    for key in key_map:\n",
    "        percent = int(round((level_count[key] / t) * 100))\n",
    "        total = str(level_count[key]).rjust(4, ' ')\n",
    "        print(f'{percent}% {total} {key_map[key]}')\n",
    "    print('')\n",
    "    return ret"
   ]
  },
  {
   "cell_type": "code",
   "execution_count": 183,
   "metadata": {},
   "outputs": [],
   "source": [
    "def print_competitor(competitor):\n",
    "    c = competitor['dancer']\n",
    "    fname = c['first_name']\n",
    "    lname = c['last_name']\n",
    "    wcsid = c['wscid']\n",
    "    print(f'({wcsid}) {fname} {lname}')"
   ]
  },
  {
   "cell_type": "code",
   "execution_count": 165,
   "metadata": {},
   "outputs": [
    {
     "name": "stdout",
     "output_type": "stream",
     "text": [
      "For WCS Competitiors (Total: 19084) placed for the first time after Jan 1 1900, we have:\n",
      "33% 6224 Newcomer\n",
      "34% 6449 Novice\n",
      "18% 3364 Intermediate\n",
      "13% 2475 Advanced\n",
      "2%  431 Allstar\n",
      "1%  141 Champion\n",
      "\n"
     ]
    }
   ],
   "source": [
    "print_count_stats(1900)"
   ]
  },
  {
   "cell_type": "code",
   "execution_count": 166,
   "metadata": {},
   "outputs": [
    {
     "name": "stdout",
     "output_type": "stream",
     "text": [
      "For WCS Competitiors (Total: 12118) placed for the first time after Jan 1 2010, we have:\n",
      "37% 4485 Newcomer\n",
      "36% 4364 Novice\n",
      "17% 2034 Intermediate\n",
      "7%  903 Advanced\n",
      "3%  317 Allstar\n",
      "0%   15 Champion\n",
      "\n",
      "For WCS Competitiors (Total: 11457) placed for the first time after Jan 1 2011, we have:\n",
      "38% 4301 Newcomer\n",
      "37% 4182 Novice\n",
      "17% 1893 Intermediate\n",
      "7%  810 Advanced\n",
      "2%  264 Allstar\n",
      "0%    7 Champion\n",
      "\n",
      "For WCS Competitiors (Total: 10618) placed for the first time after Jan 1 2012, we have:\n",
      "38% 4062 Newcomer\n",
      "37% 3914 Novice\n",
      "16% 1729 Intermediate\n",
      "6%  687 Advanced\n",
      "2%  221 Allstar\n",
      "0%    5 Champion\n",
      "\n",
      "For WCS Competitiors (Total: 9676) placed for the first time after Jan 1 2013, we have:\n",
      "40% 3839 Newcomer\n",
      "37% 3590 Novice\n",
      "16% 1529 Intermediate\n",
      "6%  554 Advanced\n",
      "2%  161 Allstar\n",
      "0%    3 Champion\n",
      "\n",
      "For WCS Competitiors (Total: 8627) placed for the first time after Jan 1 2014, we have:\n",
      "41% 3529 Newcomer\n",
      "38% 3252 Novice\n",
      "15% 1302 Intermediate\n",
      "5%  429 Advanced\n",
      "1%  114 Allstar\n",
      "0%    1 Champion\n",
      "\n",
      "For WCS Competitiors (Total: 7316) placed for the first time after Jan 1 2015, we have:\n",
      "43% 3114 Newcomer\n",
      "39% 2822 Novice\n",
      "14% 1020 Intermediate\n",
      "4%  299 Advanced\n",
      "1%   60 Allstar\n",
      "0%    1 Champion\n",
      "\n",
      "For WCS Competitiors (Total: 5978) placed for the first time after Jan 1 2016, we have:\n",
      "44% 2624 Newcomer\n",
      "39% 2349 Novice\n",
      "13%  782 Intermediate\n",
      "3%  187 Advanced\n",
      "1%   36 Allstar\n",
      "0%    0 Champion\n",
      "\n",
      "For WCS Competitiors (Total: 4510) placed for the first time after Jan 1 2017, we have:\n",
      "46% 2094 Newcomer\n",
      "40% 1811 Novice\n",
      "11%  498 Intermediate\n",
      "2%   95 Advanced\n",
      "0%   12 Allstar\n",
      "0%    0 Champion\n",
      "\n",
      "For WCS Competitiors (Total: 2973) placed for the first time after Jan 1 2018, we have:\n",
      "50% 1486 Newcomer\n",
      "41% 1226 Novice\n",
      "8%  234 Intermediate\n",
      "1%   26 Advanced\n",
      "0%    1 Allstar\n",
      "0%    0 Champion\n",
      "\n",
      "For WCS Competitiors (Total: 1668) placed for the first time after Jan 1 2019, we have:\n",
      "55%  910 Newcomer\n",
      "42%  707 Novice\n",
      "3%   49 Intermediate\n",
      "0%    2 Advanced\n",
      "0%    0 Allstar\n",
      "0%    0 Champion\n",
      "\n"
     ]
    }
   ],
   "source": [
    "# Count dancers by level\n",
    "for year in range(2010, 2020):\n",
    "    print_count_stats(year)"
   ]
  },
  {
   "cell_type": "code",
   "execution_count": 184,
   "metadata": {},
   "outputs": [
    {
     "name": "stdout",
     "output_type": "stream",
     "text": [
      "For WCS Competitiors (Total: 4510) placed for the first time after Jan 1 2017, we have:\n",
      "46% 2094 Newcomer\n",
      "40% 1811 Novice\n",
      "11%  498 Intermediate\n",
      "2%   95 Advanced\n",
      "0%   12 Allstar\n",
      "0%    0 Champion\n",
      "\n",
      "(15296) Kathleen Sun\n",
      "(15300) Deon Harrell\n",
      "(15378) Raisa Khismatullina\n",
      "(15581) Attila Kobori\n",
      "(15656) Tuan Nguyen\n",
      "(16071) Emily J. Huang\n",
      "(16096) Elizabeth Ferreira\n",
      "(16222) Tim Kenny\n",
      "(16285) Melodie Paletta\n",
      "(16370) Samantha Boice\n",
      "(16485) Omar Gonzalez\n",
      "(17980) Jt Anderson\n"
     ]
    }
   ],
   "source": [
    "competitors = print_count_stats(2017)\n",
    "for competitor in competitors:\n",
    "    if data[competitor]['level']['required'] == 'ALS':\n",
    "        print_competitor(data[competitor])"
   ]
  },
  {
   "cell_type": "code",
   "execution_count": null,
   "metadata": {},
   "outputs": [],
   "source": []
  }
 ],
 "metadata": {
  "kernelspec": {
   "display_name": "Python 3.7.4 64-bit",
   "language": "python",
   "name": "python37464bit5c4759ea5c7e474aa3bbd2abe04d07dd"
  },
  "language_info": {
   "codemirror_mode": {
    "name": "ipython",
    "version": 3
   },
   "file_extension": ".py",
   "mimetype": "text/x-python",
   "name": "python",
   "nbconvert_exporter": "python",
   "pygments_lexer": "ipython3",
   "version": "3.7.4"
  }
 },
 "nbformat": 4,
 "nbformat_minor": 2
}
